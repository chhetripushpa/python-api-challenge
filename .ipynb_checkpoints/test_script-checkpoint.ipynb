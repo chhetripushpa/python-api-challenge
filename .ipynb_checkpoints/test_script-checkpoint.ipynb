{
 "cells": [
  {
   "cell_type": "code",
   "execution_count": 6,
   "id": "36590ae8-d5ef-453e-bbcf-57c266606cf0",
   "metadata": {},
   "outputs": [
    {
     "name": "stdout",
     "output_type": "stream",
     "text": [
      "Current working directory: C:\\Users\\pushp\\OneDrive\\Desktop\\Challenge 6\\python-api-challenge\n",
      "\n",
      "Files in current directory: ['.git', '.ipynb_checkpoints', 'api_keys.py', 'output_data', 'README.md', 'test_script.ipynb', 'VacationPy.ipynb', 'WeatherPy.ipynb']\n"
     ]
    }
   ],
   "source": [
    "import os\n",
    "\n",
    "# Get and print current working directory\n",
    "print(\"Current working directory:\", os.getcwd())\n",
    "\n",
    "# List all files in current directory\n",
    "print(\"\\nFiles in current directory:\", os.listdir())"
   ]
  },
  {
   "cell_type": "code",
   "execution_count": 8,
   "id": "fe55841c-313d-4485-afec-06f85c230100",
   "metadata": {},
   "outputs": [
    {
     "name": "stdout",
     "output_type": "stream",
     "text": [
      "# OpenWeatherMap API Key\n",
      "weather_api_key = \"edd783176da5ca34dd69616bd378a4a7\"\n",
      "\n",
      "# Geoapify API Key\n",
      "geoapify_key = \"b63bd371714e4882854c39eca5ac616d\"\n",
      "\n"
     ]
    }
   ],
   "source": [
    "# Read and print the contents of api_keys.py\n",
    "with open('api_keys.py', 'r') as file:\n",
    "    print(file.read())"
   ]
  },
  {
   "cell_type": "code",
   "execution_count": 10,
   "id": "87fdc533-67de-471f-a8af-636d863a8a33",
   "metadata": {},
   "outputs": [
    {
     "name": "stdout",
     "output_type": "stream",
     "text": [
      "Weather API Key: edd78...\n",
      "Geoapify Key: b63bd...\n"
     ]
    }
   ],
   "source": [
    "# Try importing\n",
    "import api_keys\n",
    "\n",
    "# Test print\n",
    "print(\"Weather API Key:\", api_keys.weather_api_key[:5] + \"...\")\n",
    "print(\"Geoapify Key:\", api_keys.geoapify_key[:5] + \"...\")"
   ]
  },
  {
   "cell_type": "code",
   "execution_count": null,
   "id": "49787819-041b-4e42-a831-dd26536d417c",
   "metadata": {},
   "outputs": [],
   "source": []
  }
 ],
 "metadata": {
  "kernelspec": {
   "display_name": "Python 3 (ipykernel)",
   "language": "python",
   "name": "python3"
  },
  "language_info": {
   "codemirror_mode": {
    "name": "ipython",
    "version": 3
   },
   "file_extension": ".py",
   "mimetype": "text/x-python",
   "name": "python",
   "nbconvert_exporter": "python",
   "pygments_lexer": "ipython3",
   "version": "3.12.4"
  }
 },
 "nbformat": 4,
 "nbformat_minor": 5
}
